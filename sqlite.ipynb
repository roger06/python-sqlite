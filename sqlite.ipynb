{
 "cells": [
  {
   "cell_type": "code",
   "execution_count": 2,
   "id": "956bcb1c",
   "metadata": {},
   "outputs": [
    {
     "name": "stdout",
     "output_type": "stream",
     "text": [
      "creating and stuff\n"
     ]
    }
   ],
   "source": [
    "import sqlite3\n",
    "\n",
    "c = sqlite3.connect('employess.db')\n",
    "\n",
    "# c.execute(''' create table emp ( id int) ''')\n",
    "\n",
    "print(\"creating and stuff\")"
   ]
  },
  {
   "cell_type": "code",
   "execution_count": null,
   "id": "1fa3d23a",
   "metadata": {},
   "outputs": [],
   "source": []
  }
 ],
 "metadata": {
  "kernelspec": {
   "display_name": "Python 3 (ipykernel)",
   "language": "python",
   "name": "python3"
  },
  "language_info": {
   "codemirror_mode": {
    "name": "ipython",
    "version": 3
   },
   "file_extension": ".py",
   "mimetype": "text/x-python",
   "name": "python",
   "nbconvert_exporter": "python",
   "pygments_lexer": "ipython3",
   "version": "3.11.5"
  }
 },
 "nbformat": 4,
 "nbformat_minor": 5
}
